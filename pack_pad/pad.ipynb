{
 "cells": [
  {
   "cell_type": "code",
   "execution_count": null,
   "metadata": {},
   "outputs": [],
   "source": [
    " def sent_pad(self,sents):\n",
    "        \"\"\"\n",
    "        对sent 进行pad,并且返回已经根据句子长度降序的结果\n",
    "         doc_sents 的结构为\n",
    "        假设sents为\n",
    "        [\n",
    "         [1,6,7,1],\n",
    "         [2,5],\n",
    "         [2,3,5]\n",
    "        ]\n",
    "        \n",
    "        返回的sents_tensor 为\n",
    "        [\n",
    "          [1,6,7,1],\n",
    "          [2,3,5,0],\n",
    "          [2,5,0,0]\n",
    "        ]\n",
    "        \n",
    "        sent_lengths 为[4,3,2] \n",
    "        \n",
    "        idx_unsort 为未排序前的序号为 [0,2,1]\n",
    "        \n",
    "        sents_tensor 和sent_lengths 都用做lstm之前的pack_padded_sequence\n",
    "        idx_unsort 为lstm后使用 pad_packed_sequence  将原来的序列顺序恢复\n",
    "        \n",
    "        \n",
    "        \"\"\"\n",
    "        #获取各个句子的长度\n",
    "        sent_lengths = LongTensor(list(map(len,sents)))\n",
    "        \n",
    "        \n",
    "        #创建一个矩阵 shape 为(sents.shape[0],max_sent_length)\n",
    "        sents_tensor = Variable(torch.zeros((len(sents), sent_lengths.max()))).long()\n",
    "        \n",
    "        #赋值\n",
    "        for idx, (sent, sentlen) in enumerate(zip(sents, sent_lengths)):\n",
    "            sents_tensor[idx, :sentlen] = LongTensor(sent)\n",
    "            \n",
    "        #将sent_lengths 从大到小进行排序，并返回对应的序号\n",
    "        sent_lengths, idx_sort = seq_lengths.sort(0, descending=True)\n",
    "        \n",
    "        #原先的序号\n",
    "        sents_tensor=sents_tensor[idx_sort]\n",
    "        \n",
    "        idx_unsort = np.argsort(idx_sort)\n",
    "        \n",
    "        return  sents_tensor,sent_lengths,idx_unsort"
   ]
  },
  {
   "cell_type": "code",
   "execution_count": null,
   "metadata": {},
   "outputs": [],
   "source": []
  }
 ],
 "metadata": {
  "kernelspec": {
   "display_name": "Python 3",
   "language": "python",
   "name": "python3"
  },
  "language_info": {
   "codemirror_mode": {
    "name": "ipython",
    "version": 3
   },
   "file_extension": ".py",
   "mimetype": "text/x-python",
   "name": "python",
   "nbconvert_exporter": "python",
   "pygments_lexer": "ipython3",
   "version": "3.7.3"
  }
 },
 "nbformat": 4,
 "nbformat_minor": 2
}
